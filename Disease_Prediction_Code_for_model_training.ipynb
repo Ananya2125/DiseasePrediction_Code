

***DISEASE PREDICTION CODE***


import numpy as np
import pandas as pd
df_train=pd.read_csv("Training.csv")
df_test=pd.read_csv("Testing.csv")
df_train.head()
itching	skin_rash	nodal_skin_eruptions	continuous_sneezing	shivering	chills	joint_pain	stomach_pain	acidity	ulcers_on_tongue	...	scurring	skin_peeling	silver_like_dusting	small_dents_in_nails	inflammatory_nails	blister	red_sore_around_nose	yellow_crust_ooze	prognosis	Unnamed: 133
0	1	1	1	0	0	0	0	0	0	0	...	0	0	0	0	0	0	0	0	Fungal infection	NaN
1	0	1	1	0	0	0	0	0	0	0	...	0	0	0	0	0	0	0	0	Fungal infection	NaN
2	1	0	1	0	0	0	0	0	0	0	...	0	0	0	0	0	0	0	0	Fungal infection	NaN
3	1	1	0	0	0	0	0	0	0	0	...	0	0	0	0	0	0	0	0	Fungal infection	NaN
4	1	1	1	0	0	0	0	0	0	0	...	0	0	0	0	0	0	0	0	Fungal infection	NaN
5 rows × 134 columns

df_test.head()
itching	skin_rash	nodal_skin_eruptions	continuous_sneezing	shivering	chills	joint_pain	stomach_pain	acidity	ulcers_on_tongue	...	blackheads	scurring	skin_peeling	silver_like_dusting	small_dents_in_nails	inflammatory_nails	blister	red_sore_around_nose	yellow_crust_ooze	prognosis
0	1	1	1	0	0	0	0	0	0	0	...	0	0	0	0	0	0	0	0	0	Fungal infection
1	0	0	0	1	1	1	0	0	0	0	...	0	0	0	0	0	0	0	0	0	Allergy
2	0	0	0	0	0	0	0	1	1	1	...	0	0	0	0	0	0	0	0	0	GERD
3	1	0	0	0	0	0	0	0	0	0	...	0	0	0	0	0	0	0	0	0	Chronic cholestasis
4	1	1	0	0	0	0	0	1	0	0	...	0	0	0	0	0	0	0	0	0	Drug Reaction
5 rows × 133 columns

df_train=df_train.drop('Unnamed: 133',axis=1)
df_train.head()
itching	skin_rash	nodal_skin_eruptions	continuous_sneezing	shivering	chills	joint_pain	stomach_pain	acidity	ulcers_on_tongue	...	blackheads	scurring	skin_peeling	silver_like_dusting	small_dents_in_nails	inflammatory_nails	blister	red_sore_around_nose	yellow_crust_ooze	prognosis
0	1	1	1	0	0	0	0	0	0	0	...	0	0	0	0	0	0	0	0	0	Fungal infection
1	0	1	1	0	0	0	0	0	0	0	...	0	0	0	0	0	0	0	0	0	Fungal infection
2	1	0	1	0	0	0	0	0	0	0	...	0	0	0	0	0	0	0	0	0	Fungal infection
3	1	1	0	0	0	0	0	0	0	0	...	0	0	0	0	0	0	0	0	0	Fungal infection
4	1	1	1	0	0	0	0	0	0	0	...	0	0	0	0	0	0	0	0	0	Fungal infection
5 rows × 133 columns

df_train.shape
(4920, 133)
df_test.shape
(42, 133)
df_train.isnull().sum()
itching                 0
skin_rash               0
nodal_skin_eruptions    0
continuous_sneezing     0
shivering               0
                       ..
inflammatory_nails      0
blister                 0
red_sore_around_nose    0
yellow_crust_ooze       0
prognosis               0
Length: 133, dtype: int64
df_train.info()
<class 'pandas.core.frame.DataFrame'>
RangeIndex: 4920 entries, 0 to 4919
Columns: 133 entries, itching to prognosis
dtypes: int64(132), object(1)
memory usage: 5.0+ MB
df_train.describe()
itching	skin_rash	nodal_skin_eruptions	continuous_sneezing	shivering	chills	joint_pain	stomach_pain	acidity	ulcers_on_tongue	...	pus_filled_pimples	blackheads	scurring	skin_peeling	silver_like_dusting	small_dents_in_nails	inflammatory_nails	blister	red_sore_around_nose	yellow_crust_ooze
count	4920.000000	4920.000000	4920.000000	4920.000000	4920.000000	4920.000000	4920.000000	4920.000000	4920.000000	4920.000000	...	4920.000000	4920.000000	4920.000000	4920.000000	4920.000000	4920.000000	4920.000000	4920.000000	4920.000000	4920.000000
mean	0.137805	0.159756	0.021951	0.045122	0.021951	0.162195	0.139024	0.045122	0.045122	0.021951	...	0.021951	0.021951	0.021951	0.023171	0.023171	0.023171	0.023171	0.023171	0.023171	0.023171
std	0.344730	0.366417	0.146539	0.207593	0.146539	0.368667	0.346007	0.207593	0.207593	0.146539	...	0.146539	0.146539	0.146539	0.150461	0.150461	0.150461	0.150461	0.150461	0.150461	0.150461
min	0.000000	0.000000	0.000000	0.000000	0.000000	0.000000	0.000000	0.000000	0.000000	0.000000	...	0.000000	0.000000	0.000000	0.000000	0.000000	0.000000	0.000000	0.000000	0.000000	0.000000
25%	0.000000	0.000000	0.000000	0.000000	0.000000	0.000000	0.000000	0.000000	0.000000	0.000000	...	0.000000	0.000000	0.000000	0.000000	0.000000	0.000000	0.000000	0.000000	0.000000	0.000000
50%	0.000000	0.000000	0.000000	0.000000	0.000000	0.000000	0.000000	0.000000	0.000000	0.000000	...	0.000000	0.000000	0.000000	0.000000	0.000000	0.000000	0.000000	0.000000	0.000000	0.000000
75%	0.000000	0.000000	0.000000	0.000000	0.000000	0.000000	0.000000	0.000000	0.000000	0.000000	...	0.000000	0.000000	0.000000	0.000000	0.000000	0.000000	0.000000	0.000000	0.000000	0.000000
max	1.000000	1.000000	1.000000	1.000000	1.000000	1.000000	1.000000	1.000000	1.000000	1.000000	...	1.000000	1.000000	1.000000	1.000000	1.000000	1.000000	1.000000	1.000000	1.000000	1.000000
8 rows × 132 columns

df_train.columns
Index(['itching', 'skin_rash', 'nodal_skin_eruptions', 'continuous_sneezing',
       'shivering', 'chills', 'joint_pain', 'stomach_pain', 'acidity',
       'ulcers_on_tongue',
       ...
       'blackheads', 'scurring', 'skin_peeling', 'silver_like_dusting',
       'small_dents_in_nails', 'inflammatory_nails', 'blister',
       'red_sore_around_nose', 'yellow_crust_ooze', 'prognosis'],
      dtype='object', length=133)
import seaborn as sns
from sklearn.preprocessing import LabelEncoder
encoder=LabelEncoder()
x=df_train.drop('prognosis',axis=1)
x.head()
itching	skin_rash	nodal_skin_eruptions	continuous_sneezing	shivering	chills	joint_pain	stomach_pain	acidity	ulcers_on_tongue	...	pus_filled_pimples	blackheads	scurring	skin_peeling	silver_like_dusting	small_dents_in_nails	inflammatory_nails	blister	red_sore_around_nose	yellow_crust_ooze
0	1	1	1	0	0	0	0	0	0	0	...	0	0	0	0	0	0	0	0	0	0
1	0	1	1	0	0	0	0	0	0	0	...	0	0	0	0	0	0	0	0	0	0
2	1	0	1	0	0	0	0	0	0	0	...	0	0	0	0	0	0	0	0	0	0
3	1	1	0	0	0	0	0	0	0	0	...	0	0	0	0	0	0	0	0	0	0
4	1	1	1	0	0	0	0	0	0	0	...	0	0	0	0	0	0	0	0	0	0
5 rows × 132 columns

y=df_train['prognosis']
y.describe()
count                 4920
unique                  41
top       Fungal infection
freq                   120
Name: prognosis, dtype: object
X=df_test.drop('prognosis',axis=1)
X.head()
itching	skin_rash	nodal_skin_eruptions	continuous_sneezing	shivering	chills	joint_pain	stomach_pain	acidity	ulcers_on_tongue	...	pus_filled_pimples	blackheads	scurring	skin_peeling	silver_like_dusting	small_dents_in_nails	inflammatory_nails	blister	red_sore_around_nose	yellow_crust_ooze
0	1	1	1	0	0	0	0	0	0	0	...	0	0	0	0	0	0	0	0	0	0
1	0	0	0	1	1	1	0	0	0	0	...	0	0	0	0	0	0	0	0	0	0
2	0	0	0	0	0	0	0	1	1	1	...	0	0	0	0	0	0	0	0	0	0
3	1	0	0	0	0	0	0	0	0	0	...	0	0	0	0	0	0	0	0	0	0
4	1	1	0	0	0	0	0	1	0	0	...	0	0	0	0	0	0	0	0	0	0
5 rows × 132 columns

Y=df_test['prognosis']
Y.head()
0       Fungal infection
1                Allergy
2                   GERD
3    Chronic cholestasis
4          Drug Reaction
Name: prognosis, dtype: object
np.std(x,axis=0)
itching                 0.344695
skin_rash               0.366380
nodal_skin_eruptions    0.146524
continuous_sneezing     0.207572
shivering               0.146524
                          ...   
small_dents_in_nails    0.150446
inflammatory_nails      0.150446
blister                 0.150446
red_sore_around_nose    0.150446
yellow_crust_ooze       0.150446
Length: 132, dtype: float64
np.std(x,axis=1)
0       0.171420
1       0.149033
2       0.149033
3       0.149033
4       0.149033
          ...   
4915    0.208299
4916    0.171420
4917    0.171420
4918    0.208299
4919    0.190903
Length: 4920, dtype: float64
correlation_matrix=x.corr()
correlation_matrix
itching	skin_rash	nodal_skin_eruptions	continuous_sneezing	shivering	chills	joint_pain	stomach_pain	acidity	ulcers_on_tongue	...	pus_filled_pimples	blackheads	scurring	skin_peeling	silver_like_dusting	small_dents_in_nails	inflammatory_nails	blister	red_sore_around_nose	yellow_crust_ooze
itching	1.000000	0.318158	0.326439	-0.086906	-0.059893	-0.175905	-0.160650	0.202850	-0.086906	-0.059893	...	-0.059893	-0.059893	-0.059893	-0.061573	-0.061573	-0.061573	-0.061573	-0.061573	-0.061573	-0.061573
skin_rash	0.318158	1.000000	0.298143	-0.094786	-0.065324	-0.029324	0.171134	0.161784	-0.094786	-0.065324	...	0.320859	0.320859	0.320859	0.331087	0.331087	0.331087	0.331087	0.331087	0.331087	0.331087
nodal_skin_eruptions	0.326439	0.298143	1.000000	-0.032566	-0.022444	-0.065917	-0.060200	-0.032566	-0.032566	-0.022444	...	-0.022444	-0.022444	-0.022444	-0.023073	-0.023073	-0.023073	-0.023073	-0.023073	-0.023073	-0.023073
continuous_sneezing	-0.086906	-0.094786	-0.032566	1.000000	0.608981	0.446238	-0.087351	-0.047254	-0.047254	-0.032566	...	-0.032566	-0.032566	-0.032566	-0.033480	-0.033480	-0.033480	-0.033480	-0.033480	-0.033480	-0.033480
shivering	-0.059893	-0.065324	-0.022444	0.608981	1.000000	0.295332	-0.060200	-0.032566	-0.032566	-0.022444	...	-0.022444	-0.022444	-0.022444	-0.023073	-0.023073	-0.023073	-0.023073	-0.023073	-0.023073	-0.023073
...	...	...	...	...	...	...	...	...	...	...	...	...	...	...	...	...	...	...	...	...	...
small_dents_in_nails	-0.061573	0.331087	-0.023073	-0.033480	-0.023073	-0.067765	0.359845	-0.033480	-0.033480	-0.023073	...	-0.023073	-0.023073	-0.023073	0.946120	0.946120	1.000000	0.946120	-0.023720	-0.023720	-0.023720
inflammatory_nails	-0.061573	0.331087	-0.023073	-0.033480	-0.023073	-0.067765	0.359845	-0.033480	-0.033480	-0.023073	...	-0.023073	-0.023073	-0.023073	0.946120	0.946120	0.946120	1.000000	-0.023720	-0.023720	-0.023720
blister	-0.061573	0.331087	-0.023073	-0.033480	-0.023073	-0.067765	-0.061889	-0.033480	-0.033480	-0.023073	...	-0.023073	-0.023073	-0.023073	-0.023720	-0.023720	-0.023720	-0.023720	1.000000	0.946120	0.946120
red_sore_around_nose	-0.061573	0.331087	-0.023073	-0.033480	-0.023073	-0.067765	-0.061889	-0.033480	-0.033480	-0.023073	...	-0.023073	-0.023073	-0.023073	-0.023720	-0.023720	-0.023720	-0.023720	0.946120	1.000000	0.946120
yellow_crust_ooze	-0.061573	0.331087	-0.023073	-0.033480	-0.023073	-0.067765	-0.061889	-0.033480	-0.033480	-0.023073	...	-0.023073	-0.023073	-0.023073	-0.023720	-0.023720	-0.023720	-0.023720	0.946120	0.946120	1.000000
132 rows × 132 columns

prognosis_counts=df_train['prognosis'].value_counts()
prognosis_counts
Fungal infection                           120
Hepatitis C                                120
Hepatitis E                                120
Alcoholic hepatitis                        120
Tuberculosis                               120
Common Cold                                120
Pneumonia                                  120
Dimorphic hemmorhoids(piles)               120
Heart attack                               120
Varicose veins                             120
Hypothyroidism                             120
Hyperthyroidism                            120
Hypoglycemia                               120
Osteoarthristis                            120
Arthritis                                  120
(vertigo) Paroymsal  Positional Vertigo    120
Acne                                       120
Urinary tract infection                    120
Psoriasis                                  120
Hepatitis D                                120
Hepatitis B                                120
Allergy                                    120
hepatitis A                                120
GERD                                       120
Chronic cholestasis                        120
Drug Reaction                              120
Peptic ulcer diseae                        120
AIDS                                       120
Diabetes                                   120
Gastroenteritis                            120
Bronchial Asthma                           120
Hypertension                               120
Migraine                                   120
Cervical spondylosis                       120
Paralysis (brain hemorrhage)               120
Jaundice                                   120
Malaria                                    120
Chicken pox                                120
Dengue                                     120
Typhoid                                    120
Impetigo                                   120
Name: prognosis, dtype: int64
label=prognosis_counts.index
value_count=prognosis_counts.values
import matplotlib.pyplot as plt
fig=plt.figure(figsize=(30,28))
plt.pie(value_count,labels=label,autopct='%1f%%')
plt.title('Prognosis')
plt.show()

plt.figure(figsize=(30,28))
sns.heatmap(x.corr(),annot=False,linewidth=1,cmap='coolwarm')
<AxesSubplot:>

for column in df_train.columns:
    fig=plt.figure(figsize=(5,4))
    sns.countplot(data=df_train,x=column)
    plt.xticks(rotation=90)
    plt.xlabel(column)
    plt.show()

sns.histplot(x='itching', data=df_train,kde=True) 
#kde-Kernel Density Estimate
<AxesSubplot:xlabel='itching', ylabel='Count'>

sns.barplot(x=df_train["skin_rash"] , y=df_train["itching"] , data=df_train,hue="prognosis")
<AxesSubplot:xlabel='skin_rash', ylabel='itching'>

sns.barplot(x=df_train["small_dents_in_nails"] , y=df_train["inflammatory_nails"] , data=df_train)
<AxesSubplot:xlabel='small_dents_in_nails', ylabel='inflammatory_nails'>

sns.boxplot(x=df_train["red_sore_around_nose"],y=df_train["continuous_sneezing"],data=df_train)
<AxesSubplot:xlabel='red_sore_around_nose', ylabel='continuous_sneezing'>

df_train.head()
itching	skin_rash	nodal_skin_eruptions	continuous_sneezing	shivering	chills	joint_pain	stomach_pain	acidity	ulcers_on_tongue	...	blackheads	scurring	skin_peeling	silver_like_dusting	small_dents_in_nails	inflammatory_nails	blister	red_sore_around_nose	yellow_crust_ooze	prognosis
0	1	1	1	0	0	0	0	0	0	0	...	0	0	0	0	0	0	0	0	0	Fungal infection
1	0	1	1	0	0	0	0	0	0	0	...	0	0	0	0	0	0	0	0	0	Fungal infection
2	1	0	1	0	0	0	0	0	0	0	...	0	0	0	0	0	0	0	0	0	Fungal infection
3	1	1	0	0	0	0	0	0	0	0	...	0	0	0	0	0	0	0	0	0	Fungal infection
4	1	1	1	0	0	0	0	0	0	0	...	0	0	0	0	0	0	0	0	0	Fungal infection
5 rows × 133 columns

y=encoder.fit_transform(y)
Y=encoder.fit_transform(Y)
y
array([15, 15, 15, ..., 38, 35, 27])
Y
array([15,  4, 16,  9, 14, 33,  1, 12, 17,  6, 23, 30,  7, 32, 28, 29,  8,
       11, 37, 40, 19, 20, 21, 22,  3, 36, 10, 34, 13, 18, 39, 26, 24, 25,
       31,  5,  0,  2, 38, 35, 27, 15])
from sklearn.model_selection import train_test_split
x_train,x_test,y_train,y_test=train_test_split(x,y,test_size=0.2,random_state=42)
from sklearn.ensemble import RandomForestClassifier
rf=RandomForestClassifier(n_estimators=300,random_state=42,max_depth=25)
rf.fit(x_train,y_train)
RandomForestClassifier(max_depth=25, n_estimators=300, random_state=42)
y_pred=rf.predict(x_test)
y_pred
array([ 2,  2, 24,  1,  9, 23, 25,  5, 19, 30, 38, 12, 21, 35,  3,  3, 13,
       22, 12,  7,  6, 40, 19,  6,  4, 20, 34, 30, 26, 30,  9, 19, 17, 22,
       39, 30, 28, 14, 34, 38, 20,  0, 23, 12, 28, 17, 25, 19, 35, 35, 18,
       36, 39,  4, 24, 20, 37, 10, 38, 33, 25, 24, 36, 18,  0, 26, 32,  1,
        0, 13, 15,  6,  2, 22, 26,  9, 27, 27, 10, 30, 16, 27, 16, 14, 19,
        1, 28, 17,  0, 11, 26, 29, 21,  3, 36, 17, 29, 18, 34, 11, 23,  6,
        3,  4, 33, 39, 16, 30, 22,  1, 21, 39, 18, 25, 12, 14, 26, 28, 25,
        3,  7, 35, 32,  8,  5, 34, 17, 24, 35, 31, 11,  7,  7,  7,  9,  2,
       19, 34, 13, 37, 33, 18, 35, 19, 21, 31, 14, 39, 36,  3, 12, 31, 33,
       37, 23, 37, 25, 21,  3,  4,  6, 28,  1, 18, 40, 37, 29,  6, 27, 24,
       40, 21, 40, 17, 34, 27,  1, 40, 10,  8, 29,  1,  4, 40, 30, 37, 12,
       19, 11, 38, 37,  2, 39, 34, 22,  8, 15,  7, 19, 31, 17, 40, 39, 11,
       15,  0, 16,  4,  9,  8, 19, 31, 18, 13, 17, 28, 29, 18,  9, 21, 11,
        3,  3, 23, 32, 40,  8, 17, 26, 35,  5, 13, 37, 34, 35, 14, 31,  6,
       12,  5, 10, 20,  4, 39, 32, 36, 36,  9, 32, 18, 19, 22, 13, 11, 27,
       34, 13, 10, 10,  1, 18, 10, 10, 14,  0, 26, 10,  8, 13, 25, 26,  5,
       29, 37, 26, 16, 30, 27, 34,  1, 37, 24, 40, 35, 24, 33,  6, 36, 12,
       33, 16, 11, 22, 40, 15, 11, 19, 14,  1, 15, 36,  6, 27, 22, 35, 19,
       23, 31, 16, 32, 20, 15, 33,  1, 25,  7,  6, 20, 13, 15, 40, 22, 30,
       16, 38, 30, 23,  1,  6, 37, 11,  5, 38, 19, 21, 24, 10,  3, 16,  2,
       20, 11, 35,  2,  4,  1, 16, 17,  3, 40, 11,  6, 29, 21, 38, 12, 31,
       39, 14, 27, 40, 29, 27, 23, 28, 17, 24, 22, 39, 25, 10,  6,  8, 30,
       34, 32, 12, 14, 28, 20,  5,  2, 38,  7, 29,  0,  3, 10, 17, 11,  9,
        6,  5,  5, 21,  0, 21, 12, 14, 28,  7, 31, 17, 13, 35, 23, 26,  6,
       30,  7, 22, 28, 24, 21, 33,  7, 10,  4, 14, 24,  4, 11,  8, 22, 31,
       10, 20, 25,  6,  4, 25, 13,  4,  6, 20, 20, 18, 22, 38,  6, 25,  2,
       26, 32, 38, 36, 14, 40, 33, 16, 22, 24, 16,  4, 26, 15, 40, 22, 29,
       29, 28,  0, 40, 31, 13, 23, 40, 20, 25, 14, 10,  6, 18,  0,  6, 11,
        3, 27,  2, 11, 17, 18, 22, 17, 36, 26, 38, 33, 13, 36, 11,  9, 39,
       23,  1,  3, 25, 25,  7, 22,  2,  6, 16, 40, 34,  5, 14, 12, 28,  9,
       16,  6,  1, 13, 15, 20,  0, 35, 17, 35, 32, 24, 35, 36, 35, 12,  3,
        6,  5, 34, 40,  3,  0, 19, 29, 33, 34, 39, 39,  2, 28, 32, 22, 13,
       32, 15,  2, 12,  4,  4, 38, 27, 14, 27, 40, 28,  2, 22, 34,  3, 19,
       20, 24, 39, 37, 16, 36, 27, 36, 14, 34,  1, 19, 22,  1, 26,  8, 21,
       37,  1,  7, 23, 16, 18, 33, 27, 27, 31,  7, 22, 34,  9, 23, 40, 10,
       12,  0, 25, 18,  7, 13, 32, 13, 25, 26,  7, 16, 11, 29, 30, 25, 32,
       27, 27, 21, 12, 24, 23, 17, 12, 30,  1, 21, 30, 36, 18, 21,  7, 13,
        8, 32, 22, 29, 24, 32, 31, 10, 40, 36, 34, 23, 36, 40, 38, 31, 15,
       26, 24, 36, 34,  6,  0,  3, 39, 40, 29, 40,  7, 29, 15, 18, 32, 19,
        0, 21, 18, 21,  1, 38, 16, 23, 17,  7, 32, 32,  5,  4,  5, 38, 40,
        2, 38, 29,  5,  3, 13, 26, 21, 11, 16, 28, 22, 37,  5, 36,  7, 38,
       30, 34, 11,  6, 36, 14, 34, 38, 37, 22, 40, 35, 18, 16, 31, 19, 14,
       18,  6, 16, 16,  5,  5, 23,  8, 20, 10, 36, 31, 27,  3, 20, 30, 34,
       36, 12,  1, 31, 15,  5, 26, 37, 15, 39, 16, 39, 19,  0, 19, 23, 25,
       30, 23, 17,  4, 21, 24, 13,  2, 38, 16,  3, 12, 15, 11, 34, 22, 19,
       28, 30, 20, 11, 19, 38,  4, 32,  1, 20, 34, 19,  2, 37, 34, 20, 23,
       15,  9,  7, 36,  1, 21,  2, 10, 23, 39,  4, 32, 40, 18, 31,  6,  6,
       34, 35, 10, 20,  2, 32, 13, 27, 38, 15, 33, 16, 34, 22, 40, 17,  8,
        2,  5, 32, 20,  0, 27,  1, 29, 26,  6, 23, 32,  5, 13, 14, 21,  7,
       26, 28, 33, 20, 31, 22, 37, 28, 20, 14, 40, 33, 19, 36, 33,  8,  4,
        5, 29, 30,  1,  6,  7, 39, 14, 16, 25, 13, 20, 37,  4, 22, 11, 18,
       10, 23, 13, 40, 25, 17, 30, 12, 36,  3, 10, 38, 31, 35, 25, 39, 10,
       16, 16,  9, 11,  1, 18, 17, 13,  8,  6, 30, 25, 15,  4, 40, 25, 31,
        4, 33, 14, 34,  5,  8,  1,  6, 15,  5, 38,  8, 40, 39, 29,  8,  2,
       13, 20, 28, 29, 24,  8, 35, 38, 19, 23,  8,  4,  6,  8, 27,  8, 13,
       13, 26, 17, 35, 17, 27,  2,  1, 31, 24, 24, 12,  9, 29, 32, 14, 24,
       24,  3, 22, 21, 35,  3, 20,  2, 19, 24,  1, 25,  9, 30, 30, 38, 14,
       40,  0, 27, 11, 39, 25,  3, 23, 30, 38, 13,  1, 11,  2, 17])
from sklearn.metrics import accuracy_score
print(accuracy_score(y_test,y_pred))
1.0
Y
array([15,  4, 16,  9, 14, 33,  1, 12, 17,  6, 23, 30,  7, 32, 28, 29,  8,
       11, 37, 40, 19, 20, 21, 22,  3, 36, 10, 34, 13, 18, 39, 26, 24, 25,
       31,  5,  0,  2, 38, 35, 27, 15])
X
itching	skin_rash	nodal_skin_eruptions	continuous_sneezing	shivering	chills	joint_pain	stomach_pain	acidity	ulcers_on_tongue	...	pus_filled_pimples	blackheads	scurring	skin_peeling	silver_like_dusting	small_dents_in_nails	inflammatory_nails	blister	red_sore_around_nose	yellow_crust_ooze
0	1	1	1	0	0	0	0	0	0	0	...	0	0	0	0	0	0	0	0	0	0
1	0	0	0	1	1	1	0	0	0	0	...	0	0	0	0	0	0	0	0	0	0
2	0	0	0	0	0	0	0	1	1	1	...	0	0	0	0	0	0	0	0	0	0
3	1	0	0	0	0	0	0	0	0	0	...	0	0	0	0	0	0	0	0	0	0
4	1	1	0	0	0	0	0	1	0	0	...	0	0	0	0	0	0	0	0	0	0
5	0	0	0	0	0	0	0	0	0	0	...	0	0	0	0	0	0	0	0	0	0
6	0	0	0	0	0	0	0	0	0	0	...	0	0	0	0	0	0	0	0	0	0
7	0	0	0	0	0	0	0	0	0	0	...	0	0	0	0	0	0	0	0	0	0
8	0	0	0	0	0	0	0	0	0	0	...	0	0	0	0	0	0	0	0	0	0
9	0	0	0	0	0	0	0	0	0	0	...	0	0	0	0	0	0	0	0	0	0
10	0	0	0	0	0	0	0	0	0	0	...	0	0	0	0	0	0	0	0	0	0
11	0	0	0	0	0	0	0	0	1	0	...	0	0	0	0	0	0	0	0	0	0
12	0	0	0	0	0	0	0	0	0	0	...	0	0	0	0	0	0	0	0	0	0
13	0	0	0	0	0	0	0	0	0	0	...	0	0	0	0	0	0	0	0	0	0
14	1	0	0	0	0	0	0	0	0	0	...	0	0	0	0	0	0	0	0	0	0
15	0	0	0	0	0	1	0	0	0	0	...	0	0	0	0	0	0	0	0	0	0
16	1	1	0	0	0	0	0	0	0	0	...	0	0	0	0	0	0	0	0	0	0
17	0	1	0	0	0	1	1	0	0	0	...	0	0	0	0	0	0	0	0	0	0
18	0	0	0	0	0	1	0	0	0	0	...	0	0	0	0	0	0	0	0	0	0
19	0	0	0	0	0	0	1	0	0	0	...	0	0	0	0	0	0	0	0	0	0
20	1	0	0	0	0	0	0	0	0	0	...	0	0	0	0	0	0	0	0	0	0
21	0	0	0	0	0	0	0	0	0	0	...	0	0	0	0	0	0	0	0	0	0
22	0	0	0	0	0	0	1	0	0	0	...	0	0	0	0	0	0	0	0	0	0
23	0	0	0	0	0	0	1	0	0	0	...	0	0	0	0	0	0	0	0	0	0
24	0	0	0	0	0	0	0	0	0	0	...	0	0	0	0	0	0	0	0	0	0
25	0	0	0	0	0	1	0	0	0	0	...	0	0	0	0	0	0	0	0	0	0
26	0	0	0	1	0	1	0	0	0	0	...	0	0	0	0	0	0	0	0	0	0
27	0	0	0	0	0	1	0	0	0	0	...	0	0	0	0	0	0	0	0	0	0
28	0	0	0	0	0	0	0	0	0	0	...	0	0	0	0	0	0	0	0	0	0
29	0	0	0	0	0	0	0	0	0	0	...	0	0	0	0	0	0	0	0	0	0
30	0	0	0	0	0	0	0	0	0	0	...	0	0	0	0	0	0	0	0	0	0
31	0	0	0	0	0	0	0	0	0	0	...	0	0	0	0	0	0	0	0	0	0
32	0	0	0	0	0	0	0	0	0	0	...	0	0	0	0	0	0	0	0	0	0
33	0	0	0	0	0	0	0	0	0	0	...	0	0	0	0	0	0	0	0	0	0
34	0	0	0	0	0	0	1	0	0	0	...	0	0	0	0	0	0	0	0	0	0
35	0	0	0	0	0	0	0	0	0	0	...	0	0	0	0	0	0	0	0	0	0
36	0	0	0	0	0	0	0	0	0	0	...	0	0	0	0	0	0	0	0	0	0
37	0	1	0	0	0	0	0	0	0	0	...	1	1	1	0	0	0	0	0	0	0
38	0	0	0	0	0	0	0	0	0	0	...	0	0	0	0	0	0	0	0	0	0
39	0	1	0	0	0	0	1	0	0	0	...	0	0	0	1	1	1	1	0	0	0
40	0	1	0	0	0	0	0	0	0	0	...	0	0	0	0	0	0	0	1	1	1
41	1	1	0	0	0	0	0	0	0	0	...	0	0	0	1	0	0	0	0	1	0
42 rows × 132 columns

test_prediction=rf.predict(X)
test_prediction
array([15,  4, 16,  9, 14, 33,  1, 12, 17,  6, 23, 30,  7, 32, 28, 29,  8,
       11, 37, 40, 19, 20, 21, 22,  3, 36, 10, 34, 13, 18, 39, 26, 24, 25,
       31,  5,  0,  2, 38, 35, 27,  8])
print(accuracy_score(Y,test_prediction))
0.9761904761904762
type(Y)
numpy.ndarray
Y
array([15,  4, 16,  9, 14, 33,  1, 12, 17,  6, 23, 30,  7, 32, 28, 29,  8,
       11, 37, 40, 19, 20, 21, 22,  3, 36, 10, 34, 13, 18, 39, 26, 24, 25,
       31,  5,  0,  2, 38, 35, 27, 15])
Y_df=pd.DataFrame(Y,columns=["prognosis"])
test_pred_df=pd.DataFrame(test_prediction,columns=["predicted"])
result_df=Y_df.join(test_pred_df)
result_df
prognosis	predicted
0	15	15
1	4	4
2	16	16
3	9	9
4	14	14
5	33	33
6	1	1
7	12	12
8	17	17
9	6	6
10	23	23
11	30	30
12	7	7
13	32	32
14	28	28
15	29	29
16	8	8
17	11	11
18	37	37
19	40	40
20	19	19
21	20	20
22	21	21
23	22	22
24	3	3
25	36	36
26	10	10
27	34	34
28	13	13
29	18	18
30	39	39
31	26	26
32	24	24
33	25	25
34	31	31
35	5	5
36	0	0
37	2	2
38	38	38
39	35	35
40	27	27
41	15	8
from sklearn.tree import DecisionTreeClassifier
dtree=DecisionTreeClassifier()
dtree.fit(x_train,y_train)
DecisionTreeClassifier()
dtree_pred=dtree.predict(x_test)
print(accuracy_score(y_test,dtree_pred))
1.0
dtree.pred.shape
(984,)
Y.shape
(42,)
dtree_pred_test=dtree.predict(X)
print(accuracy_score(Y,dtree_pred_test))
0.9761904761904762
#Scaling using svm
from sklearn.preprocessing import StandardScaler
scaler=StandardScaler()
scaled_x_train=scaler.fit_transform(x_train)
scaled_x_test=scaler.transform(x_test)
scaled_x=scaler.transform(X)
from sklearn.svm import SVC
svm_clf=SVC(kernel='linear',random_state=52,C=100)
svm_clf=svm_clf.fit(scaled_x_train,y_train)
svm_clf
SVC(C=100, kernel='linear', random_state=52)
pred_y=svm_clf.predict(scaled_x_test)
print(accuracy_score(y_test,pred_y))
1.0
pred_x_test=svm_clf.predict(scaled_x)
print(accuracy_score(Y,pred_x_test))
0.9761904761904762
 
 
